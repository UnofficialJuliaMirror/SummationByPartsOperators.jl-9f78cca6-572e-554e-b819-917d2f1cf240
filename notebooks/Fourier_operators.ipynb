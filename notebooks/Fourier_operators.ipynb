{
 "cells": [
  {
   "cell_type": "markdown",
   "metadata": {},
   "source": [
    "# Some Visualisations"
   ]
  },
  {
   "cell_type": "code",
   "execution_count": null,
   "metadata": {
    "collapsed": false
   },
   "outputs": [],
   "source": [
    "using Revise, SummationByPartsOperators\n",
    "using Plots, LaTeXStrings; pyplot()\n",
    "\n",
    "xmin = -1.0\n",
    "xmax = 1.0\n",
    "@show N = 2^6\n",
    "\n",
    "factor=5; ufunc(x) = sinpi(factor*x); dufunc(x) = factor*π*cospi(factor*x)\n",
    "#factor=5; ufunc(x) = exp(sinpi(factor*x)); dufunc(x) = ufunc(x)*factor*π*cospi(factor*x)\n",
    "\n",
    "\n",
    "function compute(D, Di)\n",
    "    u = compute_coefficients(ufunc, D)\n",
    "    du = D*u\n",
    "\n",
    "    @show norm(Di*u)\n",
    "\n",
    "    xplot, duplot = evaluate_coefficients(du, D)\n",
    "end\n",
    "\n",
    "x = linspace(xmin, xmax, 10^3)\n",
    "plot(x, dufunc.(x), label=\"\\$u'\\$ analytical\", xguide=L\"x\")\n",
    "\n",
    "D = fourier_derivative_operator(xmin, xmax, N)\n",
    "Di = spectral_viscosity_operator(Tadmor1989(), D)\n",
    "plot!(compute(D, Di)..., label=\"\\$u'\\$ via Fourier\")\n",
    "#=\n",
    "D = periodic_derivative_operator(1, 2, xmin, xmax, N)\n",
    "Di = periodic_derivative_operator(2, 2, xmin, xmax, N) #TODO\n",
    "plot!(compute(D, Di)..., label=\"\\$u'\\$ via 2nd order FD\")\n",
    "\n",
    "D = periodic_derivative_operator(1, 4, xmin, xmax, N)\n",
    "Di = periodic_derivative_operator(2, 4, xmin, xmax, N) #TODO\n",
    "plot!(compute(D, Di)..., label=\"\\$u'\\$ via 4th order FD\")\n",
    "\n",
    "D = periodic_derivative_operator(1, 8, xmin, xmax, N)\n",
    "Di = periodic_derivative_operator(2, 8, xmin, xmax, N) #TODO\n",
    "plot!(compute(D, Di)..., label=\"\\$u'\\$ via 8th order FD\")\n",
    "\n",
    "D = periodic_derivative_operator(1, 16, xmin, xmax, N)\n",
    "Di = periodic_derivative_operator(2, 16, xmin, xmax, N) #TODO\n",
    "plot!(compute(D, Di)..., label=\"\\$u'\\$ via 16th order FD\")\n",
    "=#"
   ]
  },
  {
   "cell_type": "code",
   "execution_count": null,
   "metadata": {
    "collapsed": false
   },
   "outputs": [],
   "source": [
    "N = 2^9\n",
    "D = fourier_derivative_operator(0., 1., N)\n",
    "\n",
    "#Di = spectral_viscosity_operator(Tadmor1989(), D)\n",
    "#Di = spectral_viscosity_operator(MadayTadmor1989(), D)\n",
    "#Di = spectral_viscosity_operator(TadmorWaagan2012Standard(), D)\n",
    "#Di = spectral_viscosity_operator(TadmorWaagan2012Convergent(), D)\n",
    "Di = super_spectral_viscosity_operator(Tadmor1993(), D, 1)\n",
    "\n",
    "c = Di.coefficients / (Di.strength * D.jac^2 * N)\n",
    "plot(-c ./ linspace(eps(),length(c)-1,length(c)).^2)"
   ]
  },
  {
   "cell_type": "code",
   "execution_count": null,
   "metadata": {
    "collapsed": false
   },
   "outputs": [],
   "source": []
  },
  {
   "cell_type": "markdown",
   "metadata": {
    "collapsed": false
   },
   "source": [
    "# Benchmarks"
   ]
  },
  {
   "cell_type": "code",
   "execution_count": null,
   "metadata": {
    "collapsed": false
   },
   "outputs": [],
   "source": [
    "using Revise, SummationByPartsOperators, BenchmarkTools\n",
    "\n",
    "xmin = -1.0\n",
    "xmax = 1.0\n",
    "N = 128\n",
    "\n",
    "factor=5; ufunc(x) = sinpi(factor*x); dufunc(x) = factor*π*cospi(factor*x)\n",
    "#factor=10; ufunc(x) = exp(sinpi(factor*x)); dufunc(x) = ufunc(x)*factor*π*cospi(factor*x)\n",
    "\n",
    "D = fourier_derivative_operator(xmin, xmax, N)\n",
    "Di = spectral_viscosity_operator(D)\n",
    "\n",
    "u = compute_coefficients(ufunc, D)\n",
    "res = D*u\n",
    "\n",
    "xplot, duplot = evaluate_coefficients(res, D)\n",
    "@printf(\"Error: %.3e \\n\", maximum(abs, duplot - dufunc.(xplot)))\n",
    "sleep(0.1)\n",
    "display(@benchmark mul!(res, D, u))\n",
    "display(@benchmark mul!(res, Di, u))"
   ]
  },
  {
   "cell_type": "code",
   "execution_count": null,
   "metadata": {
    "collapsed": false
   },
   "outputs": [],
   "source": [
    "display(@benchmark mul!(res, D, u))\n",
    "display(@benchmark mul!(res, Di, u))"
   ]
  }
 ],
 "metadata": {
  "kernelspec": {
   "display_name": "Julia 0.6.2-pre",
   "language": "julia",
   "name": "julia-0.6"
  },
  "language_info": {
   "file_extension": ".jl",
   "mimetype": "application/julia",
   "name": "julia",
   "version": "0.6.3"
  }
 },
 "nbformat": 4,
 "nbformat_minor": 0
}
