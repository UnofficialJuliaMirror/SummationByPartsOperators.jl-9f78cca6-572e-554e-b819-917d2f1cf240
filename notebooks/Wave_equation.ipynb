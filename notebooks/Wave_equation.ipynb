{
 "cells": [
  {
   "cell_type": "markdown",
   "metadata": {},
   "source": [
    "# Wave Equation\n",
    "\n"
   ]
  },
  {
   "cell_type": "code",
   "execution_count": null,
   "metadata": {},
   "outputs": [],
   "source": [
    "using Revise\n",
    "using SummationByPartsOperators, OrdinaryDiffEq\n",
    "using Plots, LaTeXStrings, Printf\n",
    "\n",
    "# general parameters\n",
    "xmin = -1.\n",
    "xmax = +1.\n",
    "tspan = (0., 8.0)\n",
    "u0func(x) = exp(-20x^2)\n",
    "du0func(x) = zero(x)\n",
    "# homogeneous Neumann and Dirichlet BCs are implemented up to now\n",
    "left_bc  = Val(:HomogeneousDirichlet)\n",
    "right_bc = Val(:HomogeneousDirichlet)\n",
    "\n",
    "# discretisation parameters\n",
    "interior_order = 4\n",
    "N = 101\n",
    "\n",
    "# setup spatial semidiscretisation\n",
    "D2 = derivative_operator(MattssonSvärdShoeybi2008(), 2, interior_order, xmin, xmax, N)\n",
    "semidisc = WaveEquationNonperiodicSemidiscretisation(D2, left_bc, right_bc)\n",
    "ode = semidiscretise(du0func, u0func, semidisc, tspan)\n",
    "\n",
    "# solve ode\n",
    "sol = solve(ode, DPRKN6(), dt=0.25*D2.Δx, adaptive=false, \n",
    "            saveat=range(first(tspan), stop=last(tspan), length=200))\n",
    "\n",
    "# visualise the result\n",
    "plot(xguide=L\"x\")\n",
    "plot!(evaluate_coefficients(sol[end].x[2], semidisc), label=L\"u\")\n",
    "plot!(evaluate_coefficients(sol[end].x[1], semidisc), label=L\"\\partial_t u\")"
   ]
  },
  {
   "cell_type": "code",
   "execution_count": null,
   "metadata": {},
   "outputs": [],
   "source": [
    "# make a movie\n",
    "anim = Animation()\n",
    "idx = 1\n",
    "x, u = evaluate_coefficients(sol[end].x[2], semidisc)\n",
    "\n",
    "fig = plot(x, u, xguide=L\"x\", yguide=L\"u\", xlim=extrema(x), ylim=(-1., 1.),\n",
    "           #size=(1024,768), dpi=250,\n",
    "           label=\"\", title=@sprintf(\"\\$t = %6.2f \\$\", sol.t[idx]))\n",
    "for idx in 1:length(sol.t)\n",
    "    fig[1] = x, sol.u[idx].x[2]\n",
    "    plot!(title=@sprintf(\"\\$t = %6.2f \\$\", sol.t[idx]))\n",
    "    frame(anim)\n",
    "end\n",
    "gif(anim)"
   ]
  }
 ],
 "metadata": {
  "@webio": {
   "lastCommId": "9D29A3ACD158446584F262817018CC1F",
   "lastKernelId": "26ff3489-23ca-4eb2-8c92-1dd8851d4a4b"
  },
  "kernelspec": {
   "display_name": "Julia 1.1.0-rc1",
   "language": "julia",
   "name": "julia-1.1"
  },
  "language_info": {
   "file_extension": ".jl",
   "mimetype": "application/julia",
   "name": "julia",
   "version": "1.1.1"
  }
 },
 "nbformat": 4,
 "nbformat_minor": 2
}
